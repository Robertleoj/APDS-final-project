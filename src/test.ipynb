{
 "cells": [
  {
   "cell_type": "code",
   "execution_count": 1,
   "metadata": {},
   "outputs": [],
   "source": [
    "from datasets import Data"
   ]
  },
  {
   "cell_type": "code",
   "execution_count": 2,
   "metadata": {},
   "outputs": [],
   "source": [
    "from load_config import load_config "
   ]
  },
  {
   "cell_type": "code",
   "execution_count": 3,
   "metadata": {},
   "outputs": [],
   "source": [
    "config = load_config()"
   ]
  },
  {
   "cell_type": "code",
   "execution_count": 4,
   "metadata": {},
   "outputs": [
    {
     "data": {
      "text/plain": [
       "{'data': {'unzipped_path': '/media/bigbrainman/DataDrive/data/LITS17/unzipped',\n",
       "  'cache_dir': '/media/bigbrainman/DataDrive/data/LITS17/cache',\n",
       "  'zipped_path': '/media/bigbrainman/DataDrive/data/LITS17',\n",
       "  'split_path': 'datasets/split.json',\n",
       "  'split': {'train': 100, 'val': 10, 'test': 20}}}"
      ]
     },
     "execution_count": 4,
     "metadata": {},
     "output_type": "execute_result"
    }
   ],
   "source": [
    "config"
   ]
  },
  {
   "cell_type": "code",
   "execution_count": 5,
   "metadata": {},
   "outputs": [
    {
     "name": "stdout",
     "output_type": "stream",
     "text": [
      "train: (vol shape: (512, 512, 94)) (seg shape: (512, 512, 94)\n",
      "train: (vol shape: (512, 512, 105)) (seg shape: (512, 512, 105)\n",
      "train: (vol shape: (512, 512, 836)) (seg shape: (512, 512, 836)\n",
      "train: (vol shape: (512, 512, 240)) (seg shape: (512, 512, 240)\n",
      "train: (vol shape: (512, 512, 107)) (seg shape: (512, 512, 107)\n",
      "train: (vol shape: (512, 512, 841)) (seg shape: (512, 512, 841)\n",
      "train: (vol shape: (512, 512, 696)) (seg shape: (512, 512, 696)\n",
      "train: (vol shape: (512, 512, 91)) (seg shape: (512, 512, 91)\n",
      "train: (vol shape: (512, 512, 751)) (seg shape: (512, 512, 751)\n",
      "train: (vol shape: (512, 512, 237)) (seg shape: (512, 512, 237)\n",
      "train: (vol shape: (512, 512, 217)) (seg shape: (512, 512, 217)\n",
      "train: (vol shape: (512, 512, 588)) (seg shape: (512, 512, 588)\n",
      "train: (vol shape: (512, 512, 549)) (seg shape: (512, 512, 549)\n",
      "train: (vol shape: (512, 512, 647)) (seg shape: (512, 512, 647)\n",
      "train: (vol shape: (512, 512, 722)) (seg shape: (512, 512, 722)\n",
      "train: (vol shape: (512, 512, 119)) (seg shape: (512, 512, 119)\n",
      "train: (vol shape: (512, 512, 455)) (seg shape: (512, 512, 455)\n",
      "train: (vol shape: (512, 512, 343)) (seg shape: (512, 512, 343)\n",
      "train: (vol shape: (512, 512, 239)) (seg shape: (512, 512, 239)\n"
     ]
    }
   ],
   "source": [
    "data = Data(config['data'])"
   ]
  },
  {
   "cell_type": "code",
   "execution_count": null,
   "metadata": {},
   "outputs": [],
   "source": []
  }
 ],
 "metadata": {
  "kernelspec": {
   "display_name": "Python 3.10.6 ('deepvenv': venv)",
   "language": "python",
   "name": "python3"
  },
  "language_info": {
   "codemirror_mode": {
    "name": "ipython",
    "version": 3
   },
   "file_extension": ".py",
   "mimetype": "text/x-python",
   "name": "python",
   "nbconvert_exporter": "python",
   "pygments_lexer": "ipython3",
   "version": "3.10.6"
  },
  "orig_nbformat": 4,
  "vscode": {
   "interpreter": {
    "hash": "1825afa15b6cdea663959bf2af05702a7254291d73e1ad58f88d7904a9136a0f"
   }
  }
 },
 "nbformat": 4,
 "nbformat_minor": 2
}

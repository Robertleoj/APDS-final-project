{
 "cells": [
  {
   "cell_type": "code",
   "execution_count": 1,
   "metadata": {},
   "outputs": [],
   "source": [
    "from datasets import Data"
   ]
  },
  {
   "cell_type": "code",
   "execution_count": 2,
   "metadata": {},
   "outputs": [],
   "source": [
    "from load_config import load_config "
   ]
  },
  {
   "cell_type": "code",
   "execution_count": 3,
   "metadata": {},
   "outputs": [],
   "source": [
    "config = load_config()"
   ]
  },
  {
   "cell_type": "code",
   "execution_count": 4,
   "metadata": {},
   "outputs": [
    {
     "ename": "RuntimeError",
     "evalue": "[enforce fail at inline_container.cc:319] . unexpected pos 320 vs 251",
     "output_type": "error",
     "traceback": [
      "\u001b[0;31m---------------------------------------------------------------------------\u001b[0m",
      "\u001b[0;31mKeyboardInterrupt\u001b[0m                         Traceback (most recent call last)",
      "File \u001b[0;32m~/deepvenv/lib/python3.10/site-packages/torch/serialization.py:379\u001b[0m, in \u001b[0;36msave\u001b[0;34m(obj, f, pickle_module, pickle_protocol, _use_new_zipfile_serialization)\u001b[0m\n\u001b[1;32m    378\u001b[0m \u001b[39mwith\u001b[39;00m _open_zipfile_writer(opened_file) \u001b[39mas\u001b[39;00m opened_zipfile:\n\u001b[0;32m--> 379\u001b[0m     _save(obj, opened_zipfile, pickle_module, pickle_protocol)\n\u001b[1;32m    380\u001b[0m     \u001b[39mreturn\u001b[39;00m\n",
      "File \u001b[0;32m~/deepvenv/lib/python3.10/site-packages/torch/serialization.py:604\u001b[0m, in \u001b[0;36m_save\u001b[0;34m(obj, zip_file, pickle_module, pickle_protocol)\u001b[0m\n\u001b[1;32m    603\u001b[0m num_bytes \u001b[39m=\u001b[39m storage\u001b[39m.\u001b[39mnbytes()\n\u001b[0;32m--> 604\u001b[0m zip_file\u001b[39m.\u001b[39;49mwrite_record(name, storage\u001b[39m.\u001b[39;49mdata_ptr(), num_bytes)\n",
      "\u001b[0;31mKeyboardInterrupt\u001b[0m: ",
      "\nDuring handling of the above exception, another exception occurred:\n",
      "\u001b[0;31mRuntimeError\u001b[0m                              Traceback (most recent call last)",
      "Cell \u001b[0;32mIn [4], line 1\u001b[0m\n\u001b[0;32m----> 1\u001b[0m data \u001b[39m=\u001b[39m Data(config)\n",
      "File \u001b[0;32m~/APDS-final-project/src/datasets/datasets.py:22\u001b[0m, in \u001b[0;36mData.__init__\u001b[0;34m(self, config)\u001b[0m\n\u001b[1;32m     20\u001b[0m     \u001b[39mreturn\u001b[39;00m\n\u001b[1;32m     21\u001b[0m \u001b[39melse\u001b[39;00m:\n\u001b[0;32m---> 22\u001b[0m     \u001b[39mself\u001b[39;49m\u001b[39m.\u001b[39;49m__make_cache()\n",
      "File \u001b[0;32m~/APDS-final-project/src/datasets/datasets.py:47\u001b[0m, in \u001b[0;36mData.__make_cache\u001b[0;34m(self)\u001b[0m\n\u001b[1;32m     38\u001b[0m train_indices, val_indices, test_indices \u001b[39m=\u001b[39m \u001b[39mself\u001b[39m\u001b[39m.\u001b[39m__get_split_indices()\n\u001b[1;32m     40\u001b[0m cacher \u001b[39m=\u001b[39m Cacher(\n\u001b[1;32m     41\u001b[0m     config\u001b[39m=\u001b[39m\u001b[39mself\u001b[39m\u001b[39m.\u001b[39mconfig,\n\u001b[1;32m     42\u001b[0m     train_indices\u001b[39m=\u001b[39mtrain_indices, \n\u001b[1;32m     43\u001b[0m     val_indices\u001b[39m=\u001b[39mval_indices, \n\u001b[1;32m     44\u001b[0m     test_indices\u001b[39m=\u001b[39mtest_indices, \n\u001b[1;32m     45\u001b[0m )\n\u001b[0;32m---> 47\u001b[0m cacher\u001b[39m.\u001b[39;49mmake_cache()\n",
      "File \u001b[0;32m~/APDS-final-project/src/datasets/cacher.py:110\u001b[0m, in \u001b[0;36mCacher.make_cache\u001b[0;34m(self)\u001b[0m\n\u001b[1;32m    108\u001b[0m \u001b[39mfor\u001b[39;00m i \u001b[39min\u001b[39;00m indices:\n\u001b[1;32m    109\u001b[0m     dp \u001b[39m=\u001b[39m preprocessor\u001b[39m.\u001b[39mprocess(i)\n\u001b[0;32m--> 110\u001b[0m     \u001b[39mself\u001b[39;49m\u001b[39m.\u001b[39;49m__save_sample(dp, kind, i)\n",
      "File \u001b[0;32m~/APDS-final-project/src/datasets/cacher.py:68\u001b[0m, in \u001b[0;36mCacher.__save_sample\u001b[0;34m(self, dp, which, sample_idx)\u001b[0m\n\u001b[1;32m     54\u001b[0m     seg_fpath \u001b[39m=\u001b[39m \u001b[39mself\u001b[39m\u001b[39m.\u001b[39m__get_fpath(\n\u001b[1;32m     55\u001b[0m         which\u001b[39m=\u001b[39mwhich,\n\u001b[1;32m     56\u001b[0m         slice_idx\u001b[39m=\u001b[39mslice_index,\n\u001b[1;32m     57\u001b[0m         sample_idx\u001b[39m=\u001b[39msample_idx,\n\u001b[1;32m     58\u001b[0m         is_seg\u001b[39m=\u001b[39m\u001b[39mTrue\u001b[39;00m\n\u001b[1;32m     59\u001b[0m     )\n\u001b[1;32m     61\u001b[0m     vol_fpath \u001b[39m=\u001b[39m \u001b[39mself\u001b[39m\u001b[39m.\u001b[39m__get_fpath(\n\u001b[1;32m     62\u001b[0m         which\u001b[39m=\u001b[39mwhich,\n\u001b[1;32m     63\u001b[0m         slice_idx\u001b[39m=\u001b[39mslice_index,\n\u001b[1;32m     64\u001b[0m         sample_idx\u001b[39m=\u001b[39msample_idx,\n\u001b[1;32m     65\u001b[0m         is_seg\u001b[39m=\u001b[39m\u001b[39mFalse\u001b[39;00m\n\u001b[1;32m     66\u001b[0m     )\n\u001b[0;32m---> 68\u001b[0m     torch\u001b[39m.\u001b[39;49msave(obj\u001b[39m=\u001b[39;49mvol_slice, f\u001b[39m=\u001b[39;49mvol_fpath)\n\u001b[1;32m     69\u001b[0m     torch\u001b[39m.\u001b[39msave(obj\u001b[39m=\u001b[39mseg_slice, f\u001b[39m=\u001b[39mseg_fpath)\n\u001b[1;32m     71\u001b[0m segrem_fpath \u001b[39m=\u001b[39m \u001b[39mself\u001b[39m\u001b[39m.\u001b[39m__get_fpath(\n\u001b[1;32m     72\u001b[0m     which\u001b[39m=\u001b[39mwhich,\n\u001b[1;32m     73\u001b[0m     slice_idx\u001b[39m=\u001b[39m\u001b[39m'\u001b[39m\u001b[39mrem\u001b[39m\u001b[39m'\u001b[39m,\n\u001b[1;32m     74\u001b[0m     sample_idx\u001b[39m=\u001b[39msample_idx,\n\u001b[1;32m     75\u001b[0m     is_seg\u001b[39m=\u001b[39m\u001b[39mTrue\u001b[39;00m\n\u001b[1;32m     76\u001b[0m )\n",
      "File \u001b[0;32m~/deepvenv/lib/python3.10/site-packages/torch/serialization.py:378\u001b[0m, in \u001b[0;36msave\u001b[0;34m(obj, f, pickle_module, pickle_protocol, _use_new_zipfile_serialization)\u001b[0m\n\u001b[1;32m    376\u001b[0m \u001b[39mwith\u001b[39;00m _open_file_like(f, \u001b[39m'\u001b[39m\u001b[39mwb\u001b[39m\u001b[39m'\u001b[39m) \u001b[39mas\u001b[39;00m opened_file:\n\u001b[1;32m    377\u001b[0m     \u001b[39mif\u001b[39;00m _use_new_zipfile_serialization:\n\u001b[0;32m--> 378\u001b[0m         \u001b[39mwith\u001b[39;00m _open_zipfile_writer(opened_file) \u001b[39mas\u001b[39;00m opened_zipfile:\n\u001b[1;32m    379\u001b[0m             _save(obj, opened_zipfile, pickle_module, pickle_protocol)\n\u001b[1;32m    380\u001b[0m             \u001b[39mreturn\u001b[39;00m\n",
      "File \u001b[0;32m~/deepvenv/lib/python3.10/site-packages/torch/serialization.py:259\u001b[0m, in \u001b[0;36m_open_zipfile_writer_buffer.__exit__\u001b[0;34m(self, *args)\u001b[0m\n\u001b[1;32m    258\u001b[0m \u001b[39mdef\u001b[39;00m \u001b[39m__exit__\u001b[39m(\u001b[39mself\u001b[39m, \u001b[39m*\u001b[39margs) \u001b[39m-\u001b[39m\u001b[39m>\u001b[39m \u001b[39mNone\u001b[39;00m:\n\u001b[0;32m--> 259\u001b[0m     \u001b[39mself\u001b[39;49m\u001b[39m.\u001b[39;49mfile_like\u001b[39m.\u001b[39;49mwrite_end_of_file()\n\u001b[1;32m    260\u001b[0m     \u001b[39mself\u001b[39m\u001b[39m.\u001b[39mbuffer\u001b[39m.\u001b[39mflush()\n",
      "\u001b[0;31mRuntimeError\u001b[0m: [enforce fail at inline_container.cc:319] . unexpected pos 320 vs 251"
     ]
    }
   ],
   "source": [
    "data = Data(config, nuke_cache=True)"
   ]
  }
 ],
 "metadata": {
  "kernelspec": {
   "display_name": "Python 3.10.6 ('deepvenv': venv)",
   "language": "python",
   "name": "python3"
  },
  "language_info": {
   "codemirror_mode": {
    "name": "ipython",
    "version": 3
   },
   "file_extension": ".py",
   "mimetype": "text/x-python",
   "name": "python",
   "nbconvert_exporter": "python",
   "pygments_lexer": "ipython3",
   "version": "3.10.6"
  },
  "orig_nbformat": 4,
  "vscode": {
   "interpreter": {
    "hash": "1825afa15b6cdea663959bf2af05702a7254291d73e1ad58f88d7904a9136a0f"
   }
  }
 },
 "nbformat": 4,
 "nbformat_minor": 2
}

{
 "cells": [
  {
   "cell_type": "code",
   "execution_count": 1,
   "metadata": {},
   "outputs": [],
   "source": [
    "from load_config import load_config\n",
    "from utils import model_from_config, load_newest\n",
    "from plotting.plotting import compare, make_visual\n",
    "from evaluator import Evaluator\n",
    "from datasets.preprocessor import Preprocessor_2p5D\n",
    "import torch\n",
    "from torchsummary import summary\n",
    "import numpy as np\n",
    "\n",
    "device='cuda'"
   ]
  },
  {
   "cell_type": "code",
   "execution_count": 2,
   "metadata": {},
   "outputs": [],
   "source": [
    "config = load_config()\n",
    "checkpoints_path = config['checkpoint_dir']"
   ]
  },
  {
   "cell_type": "code",
   "execution_count": 3,
   "metadata": {},
   "outputs": [],
   "source": [
    "net = model_from_config(config).to(device)"
   ]
  },
  {
   "cell_type": "code",
   "execution_count": 4,
   "metadata": {},
   "outputs": [
    {
     "name": "stdout",
     "output_type": "stream",
     "text": [
      "906,204\n"
     ]
    }
   ],
   "source": [
    "model_parameters = filter(lambda p: p.requires_grad, net.parameters())\n",
    "params = sum([np.prod(p.size()) for p in model_parameters])\n",
    "print(f\"{params:,}\")"
   ]
  },
  {
   "cell_type": "code",
   "execution_count": 5,
   "metadata": {},
   "outputs": [],
   "source": [
    "net = load_newest(checkpoints_path, net, device)"
   ]
  },
  {
   "cell_type": "code",
   "execution_count": 6,
   "metadata": {},
   "outputs": [],
   "source": [
    "evaluator = Evaluator(config, net, device=device)"
   ]
  },
  {
   "cell_type": "code",
   "execution_count": 7,
   "metadata": {},
   "outputs": [],
   "source": [
    "pre = Preprocessor_2p5D(config)"
   ]
  },
  {
   "cell_type": "code",
   "execution_count": 8,
   "metadata": {},
   "outputs": [
    {
     "name": "stdout",
     "output_type": "stream",
     "text": [
      "batch.shape=torch.Size([9, 3, 512, 512])\n",
      "batch.shape=torch.Size([9, 3, 512, 512])\n",
      "batch.shape=torch.Size([9, 3, 512, 512])\n",
      "batch.shape=torch.Size([9, 3, 512, 512])\n",
      "batch.shape=torch.Size([9, 3, 512, 512])\n",
      "batch.shape=torch.Size([9, 3, 512, 512])\n",
      "batch.shape=torch.Size([9, 3, 512, 512])\n",
      "batch.shape=torch.Size([9, 3, 512, 512])\n",
      "batch.shape=torch.Size([9, 3, 512, 512])\n",
      "batch.shape=torch.Size([9, 3, 512, 512])\n",
      "batch.shape=torch.Size([9, 3, 512, 512])\n",
      "batch.shape=torch.Size([9, 3, 512, 512])\n",
      "batch.shape=torch.Size([9, 3, 512, 512])\n",
      "batch.shape=torch.Size([9, 3, 512, 512])\n",
      "batch.shape=torch.Size([9, 3, 512, 512])\n",
      "batch.shape=torch.Size([9, 3, 512, 512])\n",
      "batch.shape=torch.Size([9, 3, 512, 512])\n",
      "batch.shape=torch.Size([9, 3, 512, 512])\n",
      "batch.shape=torch.Size([9, 3, 512, 512])\n",
      "batch.shape=torch.Size([9, 3, 512, 512])\n",
      "batch.shape=torch.Size([9, 3, 512, 512])\n",
      "batch.shape=torch.Size([9, 3, 512, 512])\n",
      "batch.shape=torch.Size([9, 3, 512, 512])\n",
      "batch.shape=torch.Size([9, 3, 512, 512])\n",
      "batch.shape=torch.Size([9, 3, 512, 512])\n",
      "batch.shape=torch.Size([9, 3, 512, 512])\n",
      "batch.shape=torch.Size([9, 3, 512, 512])\n",
      "batch.shape=torch.Size([9, 3, 512, 512])\n",
      "batch.shape=torch.Size([9, 3, 512, 512])\n",
      "batch.shape=torch.Size([9, 3, 512, 512])\n",
      "batch.shape=torch.Size([9, 3, 512, 512])\n",
      "batch.shape=torch.Size([9, 3, 512, 512])\n",
      "batch.shape=torch.Size([9, 3, 512, 512])\n",
      "batch.shape=torch.Size([9, 3, 512, 512])\n",
      "batch.shape=torch.Size([9, 3, 512, 512])\n",
      "batch.shape=torch.Size([9, 3, 512, 512])\n",
      "batch.shape=torch.Size([9, 3, 512, 512])\n",
      "batch.shape=torch.Size([9, 3, 512, 512])\n",
      "batch.shape=torch.Size([9, 3, 512, 512])\n",
      "batch.shape=torch.Size([9, 3, 512, 512])\n",
      "batch.shape=torch.Size([9, 3, 512, 512])\n",
      "batch.shape=torch.Size([9, 3, 512, 512])\n",
      "batch.shape=torch.Size([9, 3, 512, 512])\n",
      "batch.shape=torch.Size([9, 3, 512, 512])\n",
      "batch.shape=torch.Size([9, 3, 512, 512])\n",
      "batch.shape=torch.Size([9, 3, 512, 512])\n",
      "batch.shape=torch.Size([9, 3, 512, 512])\n",
      "batch.shape=torch.Size([9, 3, 512, 512])\n",
      "batch.shape=torch.Size([9, 3, 512, 512])\n",
      "batch.shape=torch.Size([9, 3, 512, 512])\n",
      "batch.shape=torch.Size([9, 3, 512, 512])\n",
      "batch.shape=torch.Size([9, 3, 512, 512])\n",
      "batch.shape=torch.Size([9, 3, 512, 512])\n",
      "batch.shape=torch.Size([9, 3, 512, 512])\n",
      "batch.shape=torch.Size([9, 3, 512, 512])\n",
      "batch.shape=torch.Size([9, 3, 512, 512])\n",
      "batch.shape=torch.Size([9, 3, 512, 512])\n",
      "batch.shape=torch.Size([9, 3, 512, 512])\n",
      "batch.shape=torch.Size([9, 3, 512, 512])\n",
      "batch.shape=torch.Size([9, 3, 512, 512])\n",
      "batch.shape=torch.Size([9, 3, 512, 512])\n",
      "batch.shape=torch.Size([9, 3, 512, 512])\n",
      "batch.shape=torch.Size([9, 3, 512, 512])\n",
      "batch.shape=torch.Size([9, 3, 512, 512])\n",
      "batch.shape=torch.Size([9, 3, 512, 512])\n",
      "batch.shape=torch.Size([9, 3, 512, 512])\n",
      "batch.shape=torch.Size([9, 3, 512, 512])\n",
      "batch.shape=torch.Size([9, 3, 512, 512])\n",
      "batch.shape=torch.Size([9, 3, 512, 512])\n",
      "batch.shape=torch.Size([9, 3, 512, 512])\n",
      "batch.shape=torch.Size([9, 3, 512, 512])\n",
      "batch.shape=torch.Size([9, 3, 512, 512])\n",
      "batch.shape=torch.Size([9, 3, 512, 512])\n",
      "batch.shape=torch.Size([9, 3, 512, 512])\n",
      "batch.shape=torch.Size([3, 3, 512, 512])\n"
     ]
    }
   ],
   "source": [
    "dp = pre.process(97)\n",
    "vol, seg = dp.full_vol, dp.full_seg\n",
    "pred = evaluator.evaluate(vol)"
   ]
  },
  {
   "cell_type": "code",
   "execution_count": null,
   "metadata": {},
   "outputs": [
    {
     "ename": "",
     "evalue": "",
     "output_type": "error",
     "traceback": [
      "\u001b[1;31mCanceled future for execute_request message before replies were done"
     ]
    }
   ],
   "source": [
    "%matplotlib ipympl\n",
    "slider = compare(vol, seg, pred)"
   ]
  },
  {
   "cell_type": "code",
   "execution_count": null,
   "metadata": {},
   "outputs": [],
   "source": [
    "import matplotlib.pyplot as plt\n",
    "plt.close()"
   ]
  }
 ],
 "metadata": {
  "kernelspec": {
   "display_name": "Python 3.10.6 ('deepvenv': venv)",
   "language": "python",
   "name": "python3"
  },
  "language_info": {
   "codemirror_mode": {
    "name": "ipython",
    "version": 3
   },
   "file_extension": ".py",
   "mimetype": "text/x-python",
   "name": "python",
   "nbconvert_exporter": "python",
   "pygments_lexer": "ipython3",
   "version": "3.10.6"
  },
  "orig_nbformat": 4,
  "vscode": {
   "interpreter": {
    "hash": "1825afa15b6cdea663959bf2af05702a7254291d73e1ad58f88d7904a9136a0f"
   }
  }
 },
 "nbformat": 4,
 "nbformat_minor": 2
}

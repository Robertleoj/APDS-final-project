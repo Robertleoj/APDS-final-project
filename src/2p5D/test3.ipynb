{
 "cells": [
  {
   "cell_type": "code",
   "execution_count": 2,
   "metadata": {},
   "outputs": [],
   "source": [
    "import nibabel as nib\n",
    "filename = \"/home/bigbrainman/APDS-final-project/data/unzipped/segmentation-10.nii\"\n",
    "\n",
    "ct_scan = nib.load(filename)\n"
   ]
  },
  {
   "cell_type": "code",
   "execution_count": 5,
   "metadata": {},
   "outputs": [
    {
     "data": {
      "text/plain": [
       "['_header',\n",
       " 'extra',\n",
       " 'file_map',\n",
       " '_dataobj',\n",
       " '_fdata_cache',\n",
       " '_data_cache',\n",
       " '_affine',\n",
       " '_load_cache',\n",
       " '__module__',\n",
       " '__doc__',\n",
       " 'header_class',\n",
       " 'valid_exts',\n",
       " 'files_types',\n",
       " '_get_fileholders',\n",
       " 'update_header',\n",
       " '_meta_sniff_len',\n",
       " 'rw',\n",
       " '_dtype_alias',\n",
       " '__init__',\n",
       " '_affine2header',\n",
       " 'get_qform',\n",
       " 'set_qform',\n",
       " 'get_sform',\n",
       " 'set_sform',\n",
       " 'set_data_dtype',\n",
       " 'get_data_dtype',\n",
       " 'to_file_map',\n",
       " 'as_reoriented',\n",
       " '_compressed_suffixes',\n",
       " 'makeable',\n",
       " 'ImageArrayProxy',\n",
       " 'from_file_map',\n",
       " 'ImageSlicer',\n",
       " 'affine',\n",
       " '__str__',\n",
       " 'get_affine',\n",
       " 'from_image',\n",
       " 'slicer',\n",
       " '__getitem__',\n",
       " 'orthoview',\n",
       " 'dataobj',\n",
       " '_data',\n",
       " 'get_data',\n",
       " 'get_fdata',\n",
       " 'in_memory',\n",
       " 'uncache',\n",
       " 'shape',\n",
       " 'ndim',\n",
       " 'from_filename',\n",
       " 'load',\n",
       " 'header',\n",
       " 'get_header',\n",
       " 'get_filename',\n",
       " 'set_filename',\n",
       " 'filespec_to_file_map',\n",
       " 'to_filename',\n",
       " 'make_file_map',\n",
       " 'instance_to_filename',\n",
       " '_sniff_meta_for',\n",
       " 'path_maybe_image',\n",
       " '__dict__',\n",
       " '__weakref__',\n",
       " '__new__',\n",
       " '__repr__',\n",
       " '__hash__',\n",
       " '__getattribute__',\n",
       " '__setattr__',\n",
       " '__delattr__',\n",
       " '__lt__',\n",
       " '__le__',\n",
       " '__eq__',\n",
       " '__ne__',\n",
       " '__gt__',\n",
       " '__ge__',\n",
       " '__reduce_ex__',\n",
       " '__reduce__',\n",
       " '__subclasshook__',\n",
       " '__init_subclass__',\n",
       " '__format__',\n",
       " '__sizeof__',\n",
       " '__dir__',\n",
       " '__class__',\n",
       " 'from_bytes',\n",
       " 'to_bytes']"
      ]
     },
     "execution_count": 5,
     "metadata": {},
     "output_type": "execute_result"
    }
   ],
   "source": [
    "ct_scan.__dir__()"
   ]
  }
 ],
 "metadata": {
  "kernelspec": {
   "display_name": "Python 3.10.6 ('deepvenv')",
   "language": "python",
   "name": "python3"
  },
  "language_info": {
   "codemirror_mode": {
    "name": "ipython",
    "version": 3
   },
   "file_extension": ".py",
   "mimetype": "text/x-python",
   "name": "python",
   "nbconvert_exporter": "python",
   "pygments_lexer": "ipython3",
   "version": "3.10.6"
  },
  "orig_nbformat": 4,
  "vscode": {
   "interpreter": {
    "hash": "1825afa15b6cdea663959bf2af05702a7254291d73e1ad58f88d7904a9136a0f"
   }
  }
 },
 "nbformat": 4,
 "nbformat_minor": 2
}
